{
 "cells": [
  {
   "cell_type": "markdown",
   "metadata": {},
   "source": [
    "\n",
    "\n",
    "## Colab / Jupyter Notebook 사용 단축키\n",
    "\n",
    "\n",
    "\n",
    "- **Ctrl + Enter** : 해당 셀을 실행하고 커서를 해당 셀에 두는 경우 (결과 값만 보고자 할 때)\n",
    "\n",
    "- **Shift + Enter** : 해당 셀을 실행하고 커서를 다음 셀로 넘기는 경우 (여러가지 값을 빠르게 출력할 때)\n",
    "\n",
    "- **Alt + Enter** : 해당 셀을 실행하고 셀을 삽입한 후 커서를 삽입한 셀로 넘기는 경우 (다음 작업 공간이 없을 때\n",
    "\n",
    "- **Ctrl + M A** : 코드 셀 위에 삽입\n",
    "- **Ctrl + M B** : 코드 셀 아래 삽입\n",
    "- **Ctrl + M D** : 셀 지우기\n",
    "- **Ctrl + M Z** : 실행 취소\n",
    "- **Ctrl + M I** : 실행 중지\n",
    "- **Ctrl + M .** : 실행 강제 중지\n",
    "\n",
    "- **Ctrl + M L** : 왼쪽 줄번호 표시\n",
    "- **Ctrl + M Y** : 코드 셀로 변경\n",
    "- **Ctrl + M M** : 마크다운 셀로 변경\n",
    "\n",
    "- **SHIFT + M** : (셀 다중선택/shift key누른상태) 선택한 셀 병합\n",
    "- **Ctrl + SHIFT + -** : (분리하고자 하는 줄에 커서를 놓고) 셀 분할\n",
    "\n",
    "\n",
    "\n",
    "\n",
    "\n",
    "\n",
    "<br><br>\n",
    "\n",
    "참고:단축키 상세설명 블로그 (https://surfonmedia.tistory.com/1)\n",
    "\n"
   ]
  },
  {
   "cell_type": "code",
   "execution_count": 1,
   "metadata": {},
   "outputs": [
    {
     "name": "stdout",
     "output_type": "stream",
     "text": [
      "Requirement already satisfied: CoolProp in /workspaces/jupyter-coolprop/venv/lib/python3.10/site-packages (6.4.1)\n"
     ]
    }
   ],
   "source": [
    "# !pip install CoolProp"
   ]
  },
  {
   "cell_type": "markdown",
   "metadata": {},
   "source": [
    "<br><br><br>\n",
    "\n",
    "---\n",
    "\n",
    "## CoolProp Function의 사용예시\n",
    "이제 Python Colab을 통해서 CoolProp를 사용하는 예시와 값을 확인해 보겠습니다.\n",
    "   \n",
    "먼저 CoolProp 모듈을 불러옵니다. 설치합니다.\n",
    "\n",
    "<br>"
   ]
  },
  {
   "cell_type": "code",
   "execution_count": 13,
   "metadata": {},
   "outputs": [
    {
     "name": "stdout",
     "output_type": "stream",
     "text": [
      "6.4.1 3cd0500d029447481b3ad0ad7fe47827d1cf78b7\n"
     ]
    }
   ],
   "source": [
    "import CoolProp\n",
    "print(CoolProp.__version__, CoolProp.__gitrevision__)\n",
    "\n",
    "from CoolProp.CoolProp import PropsSI\n",
    "\n",
    "# 정상적으로 불러오면, 최신버전인 6.4.x으로 시작하는 글자가 아래에 보입니다\n",
    "# 6.4.1 3cd0500d029447481b3ad0ad7fe47827d1cf78b7"
   ]
  },
  {
   "cell_type": "markdown",
   "metadata": {},
   "source": [
    "<br>\n",
    "\n",
    "CoolProp의 함수Function 중 자주 사용하는 2가지 함수에 대해서 설명합니다.\n",
    "\n",
    "1. **PropsSI** : 일반적인 물성치\n",
    "1. **HAPropsSI** : 습공기관련 물성치\n",
    "\n",
    "<br>\n",
    "\n",
    "### ----- 1) PropsSI Function -----\n",
    "PropsSI의 사용가능한 입력변수와 단위Unit은 아래 링크에서 확인가능합니다.    \n",
    "Function Units Reference ([LINK](http://www.coolprop.org/coolprop/HighLevelAPI.html#table-of-string-inputs-to-propssi-function))"
   ]
  },
  {
   "cell_type": "code",
   "execution_count": 5,
   "metadata": {},
   "outputs": [
    {
     "data": {
      "text/plain": [
       "817.6273812375758"
      ]
     },
     "execution_count": 5,
     "metadata": {},
     "output_type": "execute_result"
    }
   ],
   "source": [
    "# Density [kg/m3] of carbon dioxide at 100 bar(100 x 1e5 Pa) and 25'C\n",
    "PropsSI('D', 'T', 273.15 + 25 , 'P', 100e5, 'CO2')\n",
    "\n",
    "# 817.6273812375758"
   ]
  },
  {
   "cell_type": "code",
   "execution_count": 6,
   "metadata": {},
   "outputs": [
    {
     "data": {
      "text/plain": [
       "412333.95323186804"
      ]
     },
     "execution_count": 6,
     "metadata": {},
     "output_type": "execute_result"
    }
   ],
   "source": [
    "# Saturated vapop enthalpy [J/kg] of R134A at 25'C\n",
    "PropsSI('H', 'T', 273.15 +25 , 'Q', 1, 'R134a')\n"
   ]
  },
  {
   "cell_type": "code",
   "execution_count": 7,
   "metadata": {},
   "outputs": [
    {
     "data": {
      "text/plain": [
       "412333.95323186804"
      ]
     },
     "execution_count": 7,
     "metadata": {},
     "output_type": "execute_result"
    }
   ],
   "source": [
    "# Saturated vapop enthalpy [J/kg] of R134A at 25'C\n",
    "PropsSI('H', 'T', 273.15 +25 , 'Q', 1, 'R134a')\n",
    "\n",
    "# 412333.95323186804"
   ]
  },
  {
   "cell_type": "markdown",
   "metadata": {},
   "source": [
    "<br><br>\n",
    "\n",
    "### ----- 2) HAPropsSI Function -----"
   ]
  },
  {
   "cell_type": "code",
   "execution_count": 8,
   "metadata": {},
   "outputs": [],
   "source": [
    "# import the things you need\n",
    "from CoolProp.HumidAirProp import HAPropsSI"
   ]
  },
  {
   "cell_type": "code",
   "execution_count": null,
   "metadata": {},
   "outputs": [],
   "source": [
    "import CoolProp\n",
    "from CoolProp.Plots import PropertyPlot\n",
    "\n",
    "# For R134a in EUR Unit\n",
    "plot = PropertyPlot('HEOS::R134a', 'PH', unit_system='EUR', tp_limits='ACHP')\n",
    "\n",
    "# Create 11 lines of constant quality\n",
    "# if you only want to see the dome, use num=2\n",
    "plot.calc_isolines(CoolProp.iQ, num = 11)\n",
    "\n",
    "# Create 25 lines of constant Temperature\n",
    "plot.calc_isolines(CoolProp.iT, num=25)\n",
    "\n",
    "# Create 15 lines of constant Smass\n",
    "plot.calc_isolines(CoolProp.iSmass, num=15)\n",
    "\n",
    "# Display and save the plot as a png\n",
    "plot.show()\n",
    "plot.savefig('R134a.png')"
   ]
  },
  {
   "cell_type": "markdown",
   "metadata": {},
   "source": [
    "<br><br>\n",
    "\n",
    "## **사용 예시_Actual Example**\n",
    "\n",
    "\n",
    "### ex020: Steam Density\n"
   ]
  },
  {
   "cell_type": "code",
   "execution_count": 10,
   "metadata": {},
   "outputs": [
    {
     "data": {
      "text/plain": [
       "4.296515473420293"
      ]
     },
     "execution_count": 10,
     "metadata": {},
     "output_type": "execute_result"
    }
   ],
   "source": [
    "# Density [kg/m3] of Steam/Water at 10 bar(10 x 1e5 Pa) and 250'C\n",
    "PropsSI('D', 'T', 273.15 + 250 , 'P', 10e5, 'Water')\n",
    "\n",
    "# 4.296515473420293"
   ]
  },
  {
   "cell_type": "code",
   "execution_count": 11,
   "metadata": {},
   "outputs": [
    {
     "data": {
      "text/plain": [
       "889.4849347499897"
      ]
     },
     "execution_count": 11,
     "metadata": {},
     "output_type": "execute_result"
    }
   ],
   "source": [
    "# CoolProp Default function 을 사용한 물성치\n",
    "# Density [kg/m3] of Saturated Water at 9.5 bar(9.5 x 1e5 Pa) and Quality 0\n",
    "PropsSI('D', 'Q', 0 , 'P', 9.5e5, 'Water')\n",
    "\n",
    "# 889.4849347499911"
   ]
  },
  {
   "cell_type": "code",
   "execution_count": 12,
   "metadata": {},
   "outputs": [
    {
     "data": {
      "text/plain": [
       "889.4827583337902"
      ]
     },
     "execution_count": 12,
     "metadata": {},
     "output_type": "execute_result"
    }
   ],
   "source": [
    "# Water - IF97 을 사용한 물성치\n",
    "# Density [kg/m3] of Saturated Water at 9.5 bar(9.5 x 1e5 Pa) and Quality 0\n",
    "PropsSI('D', 'Q', 0 , 'P', 9.5e5, 'IF97::Water')\n",
    "\n",
    "# 889.4827583337902"
   ]
  },
  {
   "cell_type": "code",
   "execution_count": null,
   "metadata": {},
   "outputs": [],
   "source": []
  }
 ],
 "metadata": {
  "kernelspec": {
   "display_name": "Python 3",
   "language": "python",
   "name": "python3"
  },
  "language_info": {
   "codemirror_mode": {
    "name": "ipython",
    "version": 3
   },
   "file_extension": ".py",
   "mimetype": "text/x-python",
   "name": "python",
   "nbconvert_exporter": "python",
   "pygments_lexer": "ipython3",
   "version": "3.10.6"
  }
 },
 "nbformat": 4,
 "nbformat_minor": 4
}
